{
 "cells": [
  {
   "cell_type": "code",
   "execution_count": 275,
   "metadata": {},
   "outputs": [],
   "source": [
    "import pandas as pd\n",
    "import random\n",
    "import json\n",
    "import string"
   ]
  },
  {
   "cell_type": "code",
   "execution_count": 276,
   "metadata": {},
   "outputs": [
    {
     "name": "stdout",
     "output_type": "stream",
     "text": [
      "Existem 228 linhas e 4 colunas\n"
     ]
    }
   ],
   "source": [
    "data = pd.read_excel(\"insightsDatabase.xlsx\")\n",
    "nLinhas, nColunas = data.shape\n",
    "data.columns = ['insights', 'firstPass', 'secondPass','random']\n",
    "data.dropna(how='any') \n",
    "print(f'Existem {nLinhas} linhas e {nColunas} colunas')"
   ]
  },
  {
   "cell_type": "code",
   "execution_count": 277,
   "metadata": {},
   "outputs": [],
   "source": [
    "def ler_json(arq_json):\n",
    "    with open(arq_json, 'r', encoding='utf8') as f:\n",
    "        return json.load(f)"
   ]
  },
  {
   "cell_type": "code",
   "execution_count": 278,
   "metadata": {},
   "outputs": [],
   "source": [
    "phrases = []\n",
    "for frase in data['insights']:\n",
    "    phrases.append([frase,'insight'])\n",
    "    \n",
    "for frase in data['random']:\n",
    "    phrases.append([frase,'random'])"
   ]
  },
  {
   "cell_type": "code",
   "execution_count": 279,
   "metadata": {},
   "outputs": [],
   "source": [
    "phrasesDictList = []\n",
    "for info in phrases:\n",
    "    phrasesDictList.append({\"text\": info[0],\"label\": info[1]})"
   ]
  },
  {
   "cell_type": "markdown",
   "metadata": {},
   "source": [
    "All Words Here"
   ]
  },
  {
   "cell_type": "code",
   "execution_count": 280,
   "metadata": {},
   "outputs": [],
   "source": [
    "def randomPhrase(sense):\n",
    "    if sense:\n",
    "        length = random.randint(3,30)\n",
    "        phrase = \"\"\n",
    "        cont = 0\n",
    "        for i in range(0,length):\n",
    "            allWordsIndex = random.randint(0,len(allWords)-1)\n",
    "            phrase += allWords[allWordsIndex]\n",
    "            if cont != length -1:\n",
    "                phrase += \" \"\n",
    "        return phrase\n",
    "    else:\n",
    "        length = random.randint(20,200)\n",
    "        stringSuport = string.ascii_letters\n",
    "        stringSuport+=\" \"\n",
    "        part1=''\n",
    "        part2=''\n",
    "        part3=''\n",
    "        if length%4 == 0:\n",
    "            leng = random.randint(3,6)\n",
    "            cont=0\n",
    "            for i in range(0,leng):\n",
    "                allWordsIndex = random.randint(0,len(allWords)-1)\n",
    "                part1 += allWords[allWordsIndex]\n",
    "                if cont != leng -1:\n",
    "                    part1 += \" \"\n",
    "        if length%2 == 0:\n",
    "            leng = random.randint(4,6)\n",
    "            cont=0\n",
    "            for i in range(0,leng):\n",
    "                allWordsIndex = random.randint(0,len(allWords)-1)\n",
    "                part3 += allWords[allWordsIndex]\n",
    "                if cont != leng -1:\n",
    "                    part3 += \" \"\n",
    "        part2 = ''.join(random.choice(stringSuport) for i in range(length))\n",
    "        phrase = part1+part2+part3\n",
    "        \n",
    "        return phrase"
   ]
  },
  {
   "cell_type": "code",
   "execution_count": 281,
   "metadata": {},
   "outputs": [],
   "source": [
    "phrasesDatabase_2 = ler_json(\"frases-tristes.json\")"
   ]
  },
  {
   "cell_type": "code",
   "execution_count": 282,
   "metadata": {},
   "outputs": [],
   "source": [
    "for phrase in phrasesDatabase_2:\n",
    "    newPhrase = \"\"\n",
    "    wordCont = 0\n",
    "    for word in phrase:\n",
    "        newPhrase += word\n",
    "        randOperation =random.randint(1,10)\n",
    "        if randOperation == 1:\n",
    "            newPhrase += random.choice(',;:.')\n",
    "        if wordCont != len(phrase) - 1:\n",
    "            newPhrase += \" \"\n",
    "        wordCont += 1\n",
    "    phrasesDictList.append({\"text\": newPhrase,\"label\": 'insight'})\n",
    "    phrasesDictList.append({\"text\": randomPhrase(False),\"label\": 'random'})"
   ]
  },
  {
   "cell_type": "code",
   "execution_count": 283,
   "metadata": {},
   "outputs": [],
   "source": [
    "allWords = []\n",
    "cont = 0\n",
    "phrasesDictList = [phraseDict for phraseDict in phrasesDictList if \n",
    "                   type(phraseDict['text']) == str]\n",
    "for phraseDict in phrasesDictList:\n",
    "    if phraseDict['label'] == 'insight':\n",
    "        phrase = phraseDict['text'].split()\n",
    "        for word in phrase:\n",
    "            if word not in allWords:\n",
    "                allWords.append(word)"
   ]
  },
  {
   "cell_type": "code",
   "execution_count": 284,
   "metadata": {},
   "outputs": [],
   "source": [
    "cont = True\n",
    "newWords = 0\n",
    "while newWords < 50000:\n",
    "    if cont:\n",
    "        newPhrase = randomPhrase(True)\n",
    "        phrasesDictList.append({\"text\": newPhrase,\"label\": 'insight'})\n",
    "        newWords+=1\n",
    "        cont = False\n",
    "    else:\n",
    "        phrasesDictList.append({\"text\": randomPhrase(False),\"label\": 'random'})\n",
    "        cont = True"
   ]
  },
  {
   "cell_type": "code",
   "execution_count": 285,
   "metadata": {},
   "outputs": [],
   "source": [
    "random.shuffle(phrasesDictList)"
   ]
  },
  {
   "cell_type": "code",
   "execution_count": 286,
   "metadata": {},
   "outputs": [
    {
     "name": "stdout",
     "output_type": "stream",
     "text": [
      "Total:  106451\n",
      "Base de treino:  85161\n",
      "Base de treste:  21290\n"
     ]
    }
   ],
   "source": [
    "length = len(phrasesDictList)\n",
    "middle_index = int(length*0.2)\n",
    "\n",
    "insightClassificationTrainData = phrasesDictList[middle_index:]\n",
    "insightClassificationTestData = phrasesDictList[:middle_index]\n",
    "print(\"Total: \",len(phrasesDictList))\n",
    "print(\"Base de treino: \",len(insightClassificationTrainData))\n",
    "print(\"Base de treste: \",len(insightClassificationTestData))\n",
    "with open('insightClasicifationData.json', 'w') as outfile:\n",
    "    json.dump(phrasesDictList, outfile)\n",
    "with open('insightClasicifationTrainData.json', 'w') as outfile:\n",
    "    json.dump(insightClassificationTrainData, outfile)\n",
    "with open('iCTestData.json', 'w') as outfile:\n",
    "    json.dump(insightClassificationTestData, outfile)"
   ]
  },
  {
   "cell_type": "code",
   "execution_count": null,
   "metadata": {},
   "outputs": [],
   "source": []
  }
 ],
 "metadata": {
  "kernelspec": {
   "display_name": "Python 3",
   "language": "python",
   "name": "python3"
  },
  "language_info": {
   "codemirror_mode": {
    "name": "ipython",
    "version": 3
   },
   "file_extension": ".py",
   "mimetype": "text/x-python",
   "name": "python",
   "nbconvert_exporter": "python",
   "pygments_lexer": "ipython3",
   "version": "3.7.6"
  }
 },
 "nbformat": 4,
 "nbformat_minor": 4
}
